{
  "nbformat": 4,
  "nbformat_minor": 0,
  "metadata": {
    "colab": {
      "provenance": []
    },
    "kernelspec": {
      "name": "python3",
      "display_name": "Python 3"
    },
    "language_info": {
      "name": "python"
    }
  },
  "cells": [
    {
      "cell_type": "code",
      "metadata": {
        "id": "CyzmgYFPR_5T"
      },
      "source": [
        "import numpy as np\n",
        "import pandas as pd\n",
        "import matplotlib.pyplot as plt\n",
        "import seaborn as sns\n",
        "import warnings\n",
        "import tensorflow as tf\n",
        "\n",
        "from sklearn.feature_extraction.text import TfidfVectorizer\n",
        "from sklearn.model_selection import train_test_split\n",
        "warnings.filterwarnings('ignore')\n",
        "from sklearn.datasets import make_classification\n",
        "from sklearn.linear_model import LogisticRegression\n",
        "from sklearn.metrics import roc_curve\n",
        "from sklearn.metrics import roc_auc_score\n",
        "from time import time"
      ],
      "execution_count": null,
      "outputs": []
    },
    {
      "cell_type": "markdown",
      "metadata": {
        "id": "iWfQuq4hC-9n"
      },
      "source": [
        "^ Imports"
      ]
    },
    {
      "cell_type": "markdown",
      "metadata": {
        "id": "QgnDs0BBDFy2"
      },
      "source": [
        "Upload dataset"
      ]
    },
    {
      "cell_type": "code",
      "metadata": {
        "id": "f4LEIjPgdevs",
        "colab": {
          "base_uri": "https://localhost:8080/",
          "height": 73
        },
        "outputId": "fdfa972d-472a-4785-df68-9b311804f779"
      },
      "source": [
        "from google.colab import files\n",
        "\n",
        "uploaded = files.upload()"
      ],
      "execution_count": null,
      "outputs": [
        {
          "output_type": "display_data",
          "data": {
            "text/plain": [
              "<IPython.core.display.HTML object>"
            ],
            "text/html": [
              "\n",
              "     <input type=\"file\" id=\"files-0e424f29-3225-4fc5-acd4-80ed3308e459\" name=\"files[]\" multiple disabled\n",
              "        style=\"border:none\" />\n",
              "     <output id=\"result-0e424f29-3225-4fc5-acd4-80ed3308e459\">\n",
              "      Upload widget is only available when the cell has been executed in the\n",
              "      current browser session. Please rerun this cell to enable.\n",
              "      </output>\n",
              "      <script>// Copyright 2017 Google LLC\n",
              "//\n",
              "// Licensed under the Apache License, Version 2.0 (the \"License\");\n",
              "// you may not use this file except in compliance with the License.\n",
              "// You may obtain a copy of the License at\n",
              "//\n",
              "//      http://www.apache.org/licenses/LICENSE-2.0\n",
              "//\n",
              "// Unless required by applicable law or agreed to in writing, software\n",
              "// distributed under the License is distributed on an \"AS IS\" BASIS,\n",
              "// WITHOUT WARRANTIES OR CONDITIONS OF ANY KIND, either express or implied.\n",
              "// See the License for the specific language governing permissions and\n",
              "// limitations under the License.\n",
              "\n",
              "/**\n",
              " * @fileoverview Helpers for google.colab Python module.\n",
              " */\n",
              "(function(scope) {\n",
              "function span(text, styleAttributes = {}) {\n",
              "  const element = document.createElement('span');\n",
              "  element.textContent = text;\n",
              "  for (const key of Object.keys(styleAttributes)) {\n",
              "    element.style[key] = styleAttributes[key];\n",
              "  }\n",
              "  return element;\n",
              "}\n",
              "\n",
              "// Max number of bytes which will be uploaded at a time.\n",
              "const MAX_PAYLOAD_SIZE = 100 * 1024;\n",
              "\n",
              "function _uploadFiles(inputId, outputId) {\n",
              "  const steps = uploadFilesStep(inputId, outputId);\n",
              "  const outputElement = document.getElementById(outputId);\n",
              "  // Cache steps on the outputElement to make it available for the next call\n",
              "  // to uploadFilesContinue from Python.\n",
              "  outputElement.steps = steps;\n",
              "\n",
              "  return _uploadFilesContinue(outputId);\n",
              "}\n",
              "\n",
              "// This is roughly an async generator (not supported in the browser yet),\n",
              "// where there are multiple asynchronous steps and the Python side is going\n",
              "// to poll for completion of each step.\n",
              "// This uses a Promise to block the python side on completion of each step,\n",
              "// then passes the result of the previous step as the input to the next step.\n",
              "function _uploadFilesContinue(outputId) {\n",
              "  const outputElement = document.getElementById(outputId);\n",
              "  const steps = outputElement.steps;\n",
              "\n",
              "  const next = steps.next(outputElement.lastPromiseValue);\n",
              "  return Promise.resolve(next.value.promise).then((value) => {\n",
              "    // Cache the last promise value to make it available to the next\n",
              "    // step of the generator.\n",
              "    outputElement.lastPromiseValue = value;\n",
              "    return next.value.response;\n",
              "  });\n",
              "}\n",
              "\n",
              "/**\n",
              " * Generator function which is called between each async step of the upload\n",
              " * process.\n",
              " * @param {string} inputId Element ID of the input file picker element.\n",
              " * @param {string} outputId Element ID of the output display.\n",
              " * @return {!Iterable<!Object>} Iterable of next steps.\n",
              " */\n",
              "function* uploadFilesStep(inputId, outputId) {\n",
              "  const inputElement = document.getElementById(inputId);\n",
              "  inputElement.disabled = false;\n",
              "\n",
              "  const outputElement = document.getElementById(outputId);\n",
              "  outputElement.innerHTML = '';\n",
              "\n",
              "  const pickedPromise = new Promise((resolve) => {\n",
              "    inputElement.addEventListener('change', (e) => {\n",
              "      resolve(e.target.files);\n",
              "    });\n",
              "  });\n",
              "\n",
              "  const cancel = document.createElement('button');\n",
              "  inputElement.parentElement.appendChild(cancel);\n",
              "  cancel.textContent = 'Cancel upload';\n",
              "  const cancelPromise = new Promise((resolve) => {\n",
              "    cancel.onclick = () => {\n",
              "      resolve(null);\n",
              "    };\n",
              "  });\n",
              "\n",
              "  // Wait for the user to pick the files.\n",
              "  const files = yield {\n",
              "    promise: Promise.race([pickedPromise, cancelPromise]),\n",
              "    response: {\n",
              "      action: 'starting',\n",
              "    }\n",
              "  };\n",
              "\n",
              "  cancel.remove();\n",
              "\n",
              "  // Disable the input element since further picks are not allowed.\n",
              "  inputElement.disabled = true;\n",
              "\n",
              "  if (!files) {\n",
              "    return {\n",
              "      response: {\n",
              "        action: 'complete',\n",
              "      }\n",
              "    };\n",
              "  }\n",
              "\n",
              "  for (const file of files) {\n",
              "    const li = document.createElement('li');\n",
              "    li.append(span(file.name, {fontWeight: 'bold'}));\n",
              "    li.append(span(\n",
              "        `(${file.type || 'n/a'}) - ${file.size} bytes, ` +\n",
              "        `last modified: ${\n",
              "            file.lastModifiedDate ? file.lastModifiedDate.toLocaleDateString() :\n",
              "                                    'n/a'} - `));\n",
              "    const percent = span('0% done');\n",
              "    li.appendChild(percent);\n",
              "\n",
              "    outputElement.appendChild(li);\n",
              "\n",
              "    const fileDataPromise = new Promise((resolve) => {\n",
              "      const reader = new FileReader();\n",
              "      reader.onload = (e) => {\n",
              "        resolve(e.target.result);\n",
              "      };\n",
              "      reader.readAsArrayBuffer(file);\n",
              "    });\n",
              "    // Wait for the data to be ready.\n",
              "    let fileData = yield {\n",
              "      promise: fileDataPromise,\n",
              "      response: {\n",
              "        action: 'continue',\n",
              "      }\n",
              "    };\n",
              "\n",
              "    // Use a chunked sending to avoid message size limits. See b/62115660.\n",
              "    let position = 0;\n",
              "    do {\n",
              "      const length = Math.min(fileData.byteLength - position, MAX_PAYLOAD_SIZE);\n",
              "      const chunk = new Uint8Array(fileData, position, length);\n",
              "      position += length;\n",
              "\n",
              "      const base64 = btoa(String.fromCharCode.apply(null, chunk));\n",
              "      yield {\n",
              "        response: {\n",
              "          action: 'append',\n",
              "          file: file.name,\n",
              "          data: base64,\n",
              "        },\n",
              "      };\n",
              "\n",
              "      let percentDone = fileData.byteLength === 0 ?\n",
              "          100 :\n",
              "          Math.round((position / fileData.byteLength) * 100);\n",
              "      percent.textContent = `${percentDone}% done`;\n",
              "\n",
              "    } while (position < fileData.byteLength);\n",
              "  }\n",
              "\n",
              "  // All done.\n",
              "  yield {\n",
              "    response: {\n",
              "      action: 'complete',\n",
              "    }\n",
              "  };\n",
              "}\n",
              "\n",
              "scope.google = scope.google || {};\n",
              "scope.google.colab = scope.google.colab || {};\n",
              "scope.google.colab._files = {\n",
              "  _uploadFiles,\n",
              "  _uploadFilesContinue,\n",
              "};\n",
              "})(self);\n",
              "</script> "
            ]
          },
          "metadata": {}
        },
        {
          "output_type": "stream",
          "name": "stdout",
          "text": [
            "Saving hatespeech.csv to hatespeech.csv\n"
          ]
        }
      ]
    },
    {
      "cell_type": "markdown",
      "metadata": {
        "id": "pcBfL6T5DJok"
      },
      "source": [
        "Import dataset"
      ]
    },
    {
      "cell_type": "code",
      "metadata": {
        "id": "1VS3_86Tj3X7",
        "colab": {
          "base_uri": "https://localhost:8080/"
        },
        "outputId": "9b3eaba4-7f58-4221-d950-2e1d48ead798"
      },
      "source": [
        "dataset = pd.read_csv('hatespeech.csv')\n",
        "dataset[\"label\"] = dataset[\"label\"].astype('category') # Convert to category\n",
        "print(dataset.dtypes) # Check data types\n",
        "dataset.head() # Print first few rows\n",
        "print(\"\\n\")\n",
        "print(dataset.head()) # Printing first few lines of file\n",
        "print(\"\\n\")\n",
        "count = dataset['label'].value_counts() # Running count of type freqency\n",
        "print('Frequency of Hate Speech (1) and No Hate Speech (0):\\n\\n', count) "
      ],
      "execution_count": null,
      "outputs": [
        {
          "output_type": "stream",
          "name": "stdout",
          "text": [
            "Unnamed: 0       int64\n",
            "text            object\n",
            "label         category\n",
            "dtype: object\n",
            "\n",
            "\n",
            "   Unnamed: 0                                               text label\n",
            "0           0  It should be legal for a husband to rape his wife     1\n",
            "1           1                            dalits are lowlife scum     1\n",
            "2           2                                dalits are lowlives     1\n",
            "3           3  It was a better world when women dare not ques...     1\n",
            "4           4  I don't work this hard so that those immigrant...     1\n",
            "\n",
            "\n",
            "Frequency of Hate Speech (1) and No Hate Speech (0):\n",
            "\n",
            " 0    48219\n",
            "1    24366\n",
            "Name: label, dtype: int64\n"
          ]
        }
      ]
    },
    {
      "cell_type": "code",
      "metadata": {
        "colab": {
          "base_uri": "https://localhost:8080/"
        },
        "id": "UCyGhKOAyRDo",
        "outputId": "6a7caebe-3316-4d18-ea2d-bb21f55fa9cf"
      },
      "source": [
        "dataset.shape"
      ],
      "execution_count": null,
      "outputs": [
        {
          "output_type": "execute_result",
          "data": {
            "text/plain": [
              "(72585, 3)"
            ]
          },
          "metadata": {
            "tags": []
          },
          "execution_count": 42
        }
      ]
    },
    {
      "cell_type": "code",
      "metadata": {
        "colab": {
          "base_uri": "https://localhost:8080/"
        },
        "id": "uKO6VeBHzp-I",
        "outputId": "cd000e7e-5942-4823-a22e-a9a87359b31e"
      },
      "source": [
        "dataset.index"
      ],
      "execution_count": null,
      "outputs": [
        {
          "output_type": "execute_result",
          "data": {
            "text/plain": [
              "RangeIndex(start=0, stop=72585, step=1)"
            ]
          },
          "metadata": {
            "tags": []
          },
          "execution_count": 43
        }
      ]
    },
    {
      "cell_type": "code",
      "metadata": {
        "colab": {
          "base_uri": "https://localhost:8080/"
        },
        "id": "yWz2_PMKC5Fo",
        "outputId": "77b987cc-ef81-4b29-ebe0-e3df68b6fc8c"
      },
      "source": [
        "dataset.columns"
      ],
      "execution_count": null,
      "outputs": [
        {
          "output_type": "execute_result",
          "data": {
            "text/plain": [
              "Index(['Unnamed: 0', 'text', 'label'], dtype='object')"
            ]
          },
          "metadata": {
            "tags": []
          },
          "execution_count": 44
        }
      ]
    },
    {
      "cell_type": "markdown",
      "metadata": {
        "id": "FSs62YDSDj_O"
      },
      "source": [
        "Check for missing values"
      ]
    },
    {
      "cell_type": "code",
      "metadata": {
        "colab": {
          "base_uri": "https://localhost:8080/"
        },
        "id": "QdbkN3koDkWW",
        "outputId": "7944a050-736b-4ee3-f471-e8a59983aa6a"
      },
      "source": [
        "dataset.isnull().sum()"
      ],
      "execution_count": null,
      "outputs": [
        {
          "output_type": "execute_result",
          "data": {
            "text/plain": [
              "Unnamed: 0    0\n",
              "text          0\n",
              "label         0\n",
              "dtype: int64"
            ]
          },
          "metadata": {
            "tags": []
          },
          "execution_count": 45
        }
      ]
    },
    {
      "cell_type": "markdown",
      "metadata": {
        "id": "j_XGAED_DdOV"
      },
      "source": [
        "Split data into training and testing data"
      ]
    },
    {
      "cell_type": "code",
      "metadata": {
        "id": "OziQ31Dj12_G"
      },
      "source": [
        "x = dataset.text\n",
        "y = dataset.label\n",
        "\n",
        "x_train, x_test, y_train, y_test = train_test_split(x, y, test_size = 0.2, train_size = 0.8, random_state = 4)"
      ],
      "execution_count": null,
      "outputs": []
    },
    {
      "cell_type": "code",
      "metadata": {
        "colab": {
          "base_uri": "https://localhost:8080/"
        },
        "id": "CbhLn7_LEsjN",
        "outputId": "08075468-d383-44df-fcc1-af7c937a5241"
      },
      "source": [
        "x_train.shape"
      ],
      "execution_count": null,
      "outputs": [
        {
          "output_type": "execute_result",
          "data": {
            "text/plain": [
              "(58068,)"
            ]
          },
          "metadata": {
            "tags": []
          },
          "execution_count": 48
        }
      ]
    },
    {
      "cell_type": "code",
      "metadata": {
        "colab": {
          "base_uri": "https://localhost:8080/"
        },
        "id": "6iy-eDgkEzTc",
        "outputId": "7657a21b-c4a9-4443-c6f6-2a26f5093035"
      },
      "source": [
        "x_test.shape"
      ],
      "execution_count": null,
      "outputs": [
        {
          "output_type": "execute_result",
          "data": {
            "text/plain": [
              "(14517,)"
            ]
          },
          "metadata": {
            "tags": []
          },
          "execution_count": 49
        }
      ]
    },
    {
      "cell_type": "markdown",
      "metadata": {
        "id": "YM7o2Jz4Is69"
      },
      "source": [
        "Vectorize text"
      ]
    },
    {
      "cell_type": "code",
      "metadata": {
        "colab": {
          "base_uri": "https://localhost:8080/"
        },
        "id": "WrHueK1UQImK",
        "outputId": "56e444a3-b52b-479b-dc71-56286dd1ca2a"
      },
      "source": [
        "import nltk\n",
        "nltk.download('stopwords')\n",
        "from nltk.corpus import stopwords\n",
        "\n",
        "stopWords = set(stopwords.words('english'))\n",
        "\n",
        "labels = y_train\n",
        "true_k = np.unique(labels).shape[0]\n",
        "\n",
        "t0 = time()\n",
        "\n",
        "vectorizer = TfidfVectorizer(stop_words=stopWords, \n",
        "                     max_features=1000, ngram_range=(1,2))\n",
        "# Fitting and transforming training data\n",
        "x_train = vectorizer.fit_transform(x_train)\n",
        "x_test = vectorizer.transform(x_test) # Transforming testing data\n",
        "\n",
        "print(x_test.shape) # shape of test\n",
        "\n",
        "print(\"done in %fs\" % (time() - t0))\n",
        "print(\"n_samples: %d, n_features: %d\" % x_train.shape)\n",
        "print()"
      ],
      "execution_count": null,
      "outputs": [
        {
          "output_type": "stream",
          "text": [
            "[nltk_data] Downloading package stopwords to /root/nltk_data...\n",
            "[nltk_data]   Package stopwords is already up-to-date!\n",
            "(14517, 1000)\n",
            "done in 3.408312s\n",
            "n_samples: 58068, n_features: 1000\n",
            "\n"
          ],
          "name": "stdout"
        }
      ]
    },
    {
      "cell_type": "markdown",
      "metadata": {
        "id": "SZGj1aYUk5o8"
      },
      "source": [
        "**Kmeans Clustering**"
      ]
    },
    {
      "cell_type": "markdown",
      "metadata": {
        "id": "yIHhhOQBleV3"
      },
      "source": [
        "Parse arguments to display options in commandline"
      ]
    },
    {
      "cell_type": "code",
      "metadata": {
        "id": "YHJH-VydO5mn",
        "colab": {
          "base_uri": "https://localhost:8080/"
        },
        "outputId": "d6b4cef3-3cef-4c2c-bbcd-f4c3fecb2636"
      },
      "source": [
        "from sklearn.datasets import fetch_20newsgroups\n",
        "from sklearn.decomposition import TruncatedSVD\n",
        "from sklearn.feature_extraction.text import TfidfTransformer\n",
        "from sklearn.pipeline import make_pipeline\n",
        "from sklearn.preprocessing import Normalizer\n",
        "from sklearn import metrics\n",
        "\n",
        "from sklearn.cluster import KMeans, MiniBatchKMeans\n",
        "\n",
        "import logging\n",
        "from optparse import OptionParser\n",
        "import sys\n",
        "\n",
        "logging.basicConfig(level=logging.INFO,\n",
        "                    format='%(asctime)s %(levelname)s %(message)s')\n",
        "\n",
        "op = OptionParser()\n",
        "op.add_option(\"--lsa\",\n",
        "              dest=\"n_components\", type=\"int\",\n",
        "              help=\"Preprocess documents with latent semantic analysis.\")\n",
        "op.add_option(\"--no-minibatch\",\n",
        "              action=\"store_false\", dest=\"minibatch\", default=True,\n",
        "              help=\"Use ordinary k-means algorithm (in batch mode).\")\n",
        "op.add_option(\"--no-idf\",\n",
        "              action=\"store_false\", dest=\"use_idf\", default=True,\n",
        "              help=\"Disable Inverse Document Frequency feature weighting.\")\n",
        "op.add_option(\"--use-hashing\",\n",
        "              action=\"store_true\", default=False,\n",
        "              help=\"Use a hashing feature vectorizer\")\n",
        "op.add_option(\"--n-features\", type=int, default=10000,\n",
        "              help=\"Maximum number of features (dimensions)\"\n",
        "                   \" to extract from text.\")\n",
        "op.add_option(\"--verbose\",\n",
        "              action=\"store_true\", dest=\"verbose\", default=False,\n",
        "              help=\"Print progress reports inside k-means algorithm.\")\n",
        "\n",
        "print(__doc__)\n",
        "op.print_help()\n",
        "\n",
        "\n",
        "def is_interactive():\n",
        "    return not hasattr(sys.modules['__main__'], '__file__')"
      ],
      "execution_count": null,
      "outputs": [
        {
          "output_type": "stream",
          "text": [
            "if opts.minibatch:\n",
            "    km = MiniBatchKMeans(n_clusters=true_k, init='k-means++', n_init=1,\n",
            "                         init_size=1000, batch_size=1000, verbose=opts.verbose)\n",
            "else:\n",
            "Usage: ipykernel_launcher.py [options]\n",
            "\n",
            "Options:\n",
            "  -h, --help            show this help message and exit\n",
            "  --lsa=N_COMPONENTS    Preprocess documents with latent semantic analysis.\n",
            "  --no-minibatch        Use ordinary k-means algorithm (in batch mode).\n",
            "  --no-idf              Disable Inverse Document Frequency feature weighting.\n",
            "  --use-hashing         Use a hashing feature vectorizer\n",
            "  --n-features=N_FEATURES\n",
            "                        Maximum number of features (dimensions) to extract\n",
            "                        from text.\n",
            "  --verbose             Print progress reports inside k-means algorithm.\n"
          ],
          "name": "stdout"
        }
      ]
    },
    {
      "cell_type": "markdown",
      "metadata": {
        "id": "8TQqVrOVnRI6"
      },
      "source": [
        "Account for Jupyter or IPython console"
      ]
    },
    {
      "cell_type": "code",
      "metadata": {
        "id": "l0rpS8jNnUV3"
      },
      "source": [
        "argv = [] if is_interactive() else sys.argv[1:]\n",
        "(opts, args) = op.parse_args(argv)\n",
        "if len(args) > 0:\n",
        "    op.error(\"this script takes no arguments.\")\n",
        "    sys.exit(1)"
      ],
      "execution_count": null,
      "outputs": []
    },
    {
      "cell_type": "markdown",
      "metadata": {
        "id": "XamszdegoTuu"
      },
      "source": [
        "Vectorizer results are normalized, which makes KMeans behave as spherical k-means for better results. Since LSA/SVD results are not normalized, we have to redo the normalization."
      ]
    },
    {
      "cell_type": "code",
      "metadata": {
        "id": "i31EzmgtoTAQ"
      },
      "source": [
        "if opts.n_components:\n",
        "    print(\"Performing dimensionality reduction using LSA\")\n",
        "    t0 = time()\n",
        "    # Vectorizer results are normalized, which makes KMeans behave as\n",
        "    # spherical k-means for better results. Since LSA/SVD results are\n",
        "    # not normalized, we have to redo the normalization.\n",
        "    svd = TruncatedSVD(opts.n_components)\n",
        "    normalizer = Normalizer(copy=False)\n",
        "    lsa = make_pipeline(svd, normalizer)\n",
        "\n",
        "    x_train = lsa.fit_transform(x_train)\n",
        "\n",
        "    print(\"done in %fs\" % (time() - t0))\n",
        "\n",
        "    explained_variance = svd.explained_variance_ratio_.sum()\n",
        "    print(\"Explained variance of the SVD step: {}%\".format(\n",
        "        int(explained_variance * 100)))\n",
        "\n",
        "    print()\n"
      ],
      "execution_count": null,
      "outputs": []
    },
    {
      "cell_type": "markdown",
      "metadata": {
        "id": "lsGvMJucsdjC"
      },
      "source": [
        "**Actual Clustering**"
      ]
    },
    {
      "cell_type": "markdown",
      "metadata": {
        "id": "qzvAXytasodM"
      },
      "source": [
        "Clustering Statistics "
      ]
    },
    {
      "cell_type": "code",
      "metadata": {
        "colab": {
          "base_uri": "https://localhost:8080/"
        },
        "id": "woGyNshysnWB",
        "outputId": "adb33a77-8240-4fc4-f176-9cca263244a1"
      },
      "source": [
        "if opts.minibatch:\n",
        "    km = MiniBatchKMeans(n_clusters=true_k, init='k-means++', n_init=1,\n",
        "                         init_size=1000, batch_size=1000, verbose=opts.verbose)\n",
        "else:\n",
        "    km = KMeans(n_clusters=true_k, init='k-means++', max_iter=100, n_init=1,\n",
        "                verbose=opts.verbose)\n",
        "\n",
        "print(\"Clustering sparse data with %s\" % km)\n",
        "t0 = time()\n",
        "km.fit(x_train)\n",
        "print(\"done in %0.3fs\" % (time() - t0))\n",
        "print()\n",
        "\n",
        "print(\"Homogeneity: %0.3f\" % metrics.homogeneity_score(labels, km.labels_))\n",
        "print(\"Completeness: %0.3f\" % metrics.completeness_score(labels, km.labels_))\n",
        "print(\"V-measure: %0.3f\" % metrics.v_measure_score(labels, km.labels_))\n",
        "print(\"Adjusted Rand-Index: %.3f\"\n",
        "      % metrics.adjusted_rand_score(labels, km.labels_))\n",
        "print(\"Silhouette Coefficient: %0.3f\"\n",
        "      % metrics.silhouette_score(x_train, km.labels_, sample_size=1000))\n",
        "\n",
        "print()"
      ],
      "execution_count": null,
      "outputs": [
        {
          "output_type": "stream",
          "text": [
            "Clustering sparse data with MiniBatchKMeans(batch_size=1000, compute_labels=True, init='k-means++',\n",
            "                init_size=1000, max_iter=100, max_no_improvement=10,\n",
            "                n_clusters=2, n_init=1, random_state=None,\n",
            "                reassignment_ratio=0.01, tol=0.0, verbose=False)\n",
            "done in 0.097s\n",
            "\n",
            "Homogeneity: 0.010\n",
            "Completeness: 0.020\n",
            "V-measure: 0.013\n",
            "Adjusted Rand-Index: 0.043\n",
            "Silhouette Coefficient: 0.015\n",
            "\n"
          ],
          "name": "stdout"
        }
      ]
    },
    {
      "cell_type": "markdown",
      "metadata": {
        "id": "VQJ1ZYc8tv1c"
      },
      "source": [
        "Display Clusters of words"
      ]
    },
    {
      "cell_type": "code",
      "metadata": {
        "colab": {
          "base_uri": "https://localhost:8080/"
        },
        "id": "ZHb_wAsrtwpF",
        "outputId": "a73852a4-daae-4e05-aaa8-7792e4e44e10"
      },
      "source": [
        "if not opts.use_hashing:\n",
        "    print(\"Top terms per cluster:\")\n",
        "\n",
        "    if opts.n_components:\n",
        "        original_space_centroids = svd.inverse_transform(km.cluster_centers_)\n",
        "        order_centroids = original_space_centroids.argsort()[:, ::-1]\n",
        "    else:\n",
        "        order_centroids = km.cluster_centers_.argsort()[:, ::-1]\n",
        "\n",
        "    terms = vectorizer.get_feature_names()\n",
        "    for i in range(true_k):\n",
        "        print(\"Cluster %d:\" % i, end='')\n",
        "        for ind in order_centroids[i, :10]:\n",
        "            print(' %s' % terms[ind], end='')\n",
        "        print()\n"
      ],
      "execution_count": null,
      "outputs": [
        {
          "output_type": "stream",
          "text": [
            "Top terms per cluster:\n",
            "Cluster 0: user love women fucking user user like black day happy one\n",
            "Cluster 1: people black people black think like world many people think wrong everyone\n"
          ],
          "name": "stdout"
        }
      ]
    },
    {
      "cell_type": "markdown",
      "metadata": {
        "id": "M_qnfA8nwHoj"
      },
      "source": [
        "**ROC Curve**"
      ]
    },
    {
      "cell_type": "markdown",
      "metadata": {
        "id": "3uiRvj8TwLIa"
      },
      "source": [
        "Find the \"True Positive\" and \"False Positive\" rates and plot them"
      ]
    },
    {
      "cell_type": "code",
      "metadata": {
        "id": "4HOjAJG9wro6"
      },
      "source": [
        "#generate no skill prediction\n",
        "worst_probs = [0 for _ in range(len(y_test))]\n",
        "#Prediction probability matrix\n",
        "km_probs = km.predict_proba(x_test)\n",
        "# Keep probabilities from positive outcomes\n",
        "km_probs = km_probs[:, 1] \n",
        "\n",
        "# compute AUROC:\n",
        "worst_auc = roc_auc_score(y_test, worst_probs)\n",
        "km_auc = roc_auc_score(y_test, km_probs)\n",
        "\n",
        "# print AUROC Scores:\n",
        "print('Random chance predicion aka worst scenario: AUROC = %.3f' % (worst_auc))\n",
        "print('Random MLP: AUROC = %.3f' % (km_auc))\n",
        "\n",
        "# calculate roc curves\n",
        "worst_fpr, worst_tpr, _ = roc_curve(y_test, worst_probs)\n",
        "km_fpr, km_tpr, _ = roc_curve(y_test, km_probs)\n",
        "\n",
        "# plot roc curves\n",
        "plt.plot(worst_fpr, worst_tpr, linestyle='--', label='Random Prediction (AUROC = %0.3f)' % worst_auc)\n",
        "plt.plot(km_fpr, km_tpr, marker='.', label='Multilayer Perceptron (AUROC = %0.3f)' % km_auc)\n",
        "plt.title('ROC Plot') # Title\n",
        "plt.xlabel('False Positive Rate') # X-axis label\n",
        "plt.ylabel('True Positive Rate') # Y-axis label\n",
        "plt.legend() # Show Legend\n",
        "plt.show() # Show Plot"
      ],
      "execution_count": 1,
      "outputs": []
    }
  ]
}